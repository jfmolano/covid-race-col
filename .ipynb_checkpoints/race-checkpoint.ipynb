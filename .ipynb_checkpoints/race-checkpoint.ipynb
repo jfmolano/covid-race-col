{
 "cells": [
  {
   "cell_type": "code",
   "execution_count": 1,
   "metadata": {},
   "outputs": [],
   "source": [
    "import pandas as pd"
   ]
  },
  {
   "cell_type": "code",
   "execution_count": 2,
   "metadata": {},
   "outputs": [],
   "source": [
    "import numpy as np"
   ]
  },
  {
   "cell_type": "code",
   "execution_count": 3,
   "metadata": {},
   "outputs": [],
   "source": [
    "import datetime"
   ]
  },
  {
   "cell_type": "code",
   "execution_count": 4,
   "metadata": {},
   "outputs": [],
   "source": [
    "import bar_chart_race as bcr"
   ]
  },
  {
   "cell_type": "code",
   "execution_count": 5,
   "metadata": {},
   "outputs": [],
   "source": [
    "df_labels = pd.read_excel(\"./Lista_105_Colombia_CIE9-y-CIE10.xls\")"
   ]
  },
  {
   "cell_type": "code",
   "execution_count": 6,
   "metadata": {},
   "outputs": [],
   "source": [
    "df_labels = df_labels[[\"No. Lista\",\"Causa\"]]"
   ]
  },
  {
   "cell_type": "code",
   "execution_count": 7,
   "metadata": {},
   "outputs": [
    {
     "name": "stderr",
     "output_type": "stream",
     "text": [
      "/Library/Frameworks/Python.framework/Versions/3.8/lib/python3.8/site-packages/IPython/core/interactiveshell.py:3050: DtypeWarning: Columns (9,23,38) have mixed types. Specify dtype option on import or set low_memory=False.\n",
      "  has_raised = await self.run_ast_nodes(code_ast.body, cell_name,\n"
     ]
    }
   ],
   "source": [
    "df = pd.read_csv(\"./nofetal2018.csv\", sep=\";\")"
   ]
  },
  {
   "cell_type": "code",
   "execution_count": 8,
   "metadata": {},
   "outputs": [],
   "source": [
    "df = df.loc[df[\"MES\"]<=8]"
   ]
  },
  {
   "cell_type": "code",
   "execution_count": 9,
   "metadata": {},
   "outputs": [],
   "source": [
    "df[\"date\"] = df[\"MES\"].apply(lambda x:datetime.datetime(2020,x,1))"
   ]
  },
  {
   "cell_type": "code",
   "execution_count": 10,
   "metadata": {},
   "outputs": [],
   "source": [
    "df = pd.merge(df,df_labels,left_on=\"CAU_HOMOL\",right_on=\"No. Lista\")"
   ]
  },
  {
   "cell_type": "code",
   "execution_count": 11,
   "metadata": {},
   "outputs": [],
   "source": [
    "df[\"CAU_HOMOL\"] = df[\"Causa\"]"
   ]
  },
  {
   "cell_type": "code",
   "execution_count": 12,
   "metadata": {},
   "outputs": [],
   "source": [
    "def fix_cancer(x):\n",
    "    if \"benigno\" in x.lower():\n",
    "        return \"Otros tumores\"\n",
    "    if \"tumor\" in x.lower():\n",
    "        return \"Tumores malignos\"\n",
    "    else:\n",
    "        return x"
   ]
  },
  {
   "cell_type": "code",
   "execution_count": 13,
   "metadata": {},
   "outputs": [],
   "source": [
    "df[\"CAU_HOMOL\"] = df[\"CAU_HOMOL\"].apply(fix_cancer)"
   ]
  },
  {
   "cell_type": "code",
   "execution_count": 14,
   "metadata": {},
   "outputs": [],
   "source": [
    "df = df.loc[df[\"CAU_HOMOL\"].isin(list(df[\"CAU_HOMOL\"].value_counts().head(19).index))]"
   ]
  },
  {
   "cell_type": "code",
   "execution_count": 15,
   "metadata": {},
   "outputs": [],
   "source": [
    "df_cum = df.groupby([\"CAU_HOMOL\",\"date\"]).agg(\"count\")[\"COD_DPTO\"].unstack().transpose().cumsum()"
   ]
  },
  {
   "cell_type": "code",
   "execution_count": 16,
   "metadata": {},
   "outputs": [],
   "source": [
    "df_covid = pd.read_csv(\"https://www.datos.gov.co/api/views/gt2j-8ykr/rows.csv\")"
   ]
  },
  {
   "cell_type": "code",
   "execution_count": 17,
   "metadata": {},
   "outputs": [],
   "source": [
    "df_covid = df_covid[df_covid[\"Fecha de muerte\"]==df_covid[\"Fecha de muerte\"]]"
   ]
  },
  {
   "cell_type": "code",
   "execution_count": 18,
   "metadata": {},
   "outputs": [],
   "source": [
    "df_covid[\"MES\"] = df_covid[\"fecha reporte web\"].apply(lambda x:int(x.split(\"-\")[1]))\n",
    "df_covid[\"DIA\"] = df_covid[\"fecha reporte web\"].apply(lambda x:int(x.split(\"-\")[2][:2]))"
   ]
  },
  {
   "cell_type": "code",
   "execution_count": 19,
   "metadata": {},
   "outputs": [],
   "source": [
    "df_covid[\"date\"] = df_covid.apply(lambda x:datetime.datetime(2020,x[\"MES\"],x[\"DIA\"]),axis=1)"
   ]
  },
  {
   "cell_type": "code",
   "execution_count": 20,
   "metadata": {},
   "outputs": [],
   "source": [
    "df_covid = df_covid[\"date\"].value_counts().sort_index().cumsum().to_frame().rename(columns={\"date\":\"Covid-19\"})"
   ]
  },
  {
   "cell_type": "code",
   "execution_count": 21,
   "metadata": {},
   "outputs": [],
   "source": [
    "df_cum = df_cum.join(df_covid, how=\"outer\")"
   ]
  },
  {
   "cell_type": "code",
   "execution_count": 22,
   "metadata": {},
   "outputs": [],
   "source": [
    "df_cum = df_cum.interpolate().fillna(0)"
   ]
  },
  {
   "cell_type": "code",
   "execution_count": 23,
   "metadata": {},
   "outputs": [
    {
     "data": {
      "text/plain": [
       "['Accidentes de transporte de motor y secuelas ',\n",
       " 'Agresiones (homicidios) y secuelas ',\n",
       " 'Diabetes mellitus ',\n",
       " 'Enfermedad por el VIH (SIDA) ',\n",
       " 'Enfermedades cerebrovasculares ',\n",
       " 'Enfermedades crónicas de las vías respiratorias inferiores ',\n",
       " 'Enfermedades del hígado ',\n",
       " 'Enfermedades hipertensivas ',\n",
       " 'Enfermedades isquémicas del corazón ',\n",
       " 'Insuficiencia renal ',\n",
       " 'Lesiones autoinfligidas intencionalmente (suicidios) y secuelas ',\n",
       " 'Neumonía ',\n",
       " 'Otros tumores',\n",
       " 'Signos, síntomas y afecciones mal definidas ',\n",
       " 'Todas las demás enfermedades del sistema nervioso ',\n",
       " 'Todas las demás enfermedades del sistema respiratorio ',\n",
       " 'Todas las demás enfermedades del sistema urinario',\n",
       " 'Todas las demás formas de enfermedad del corazón ',\n",
       " 'Tumores malignos',\n",
       " 'Covid-19']"
      ]
     },
     "execution_count": 23,
     "metadata": {},
     "output_type": "execute_result"
    }
   ],
   "source": [
    "list(df_cum.columns)"
   ]
  },
  {
   "cell_type": "code",
   "execution_count": 24,
   "metadata": {},
   "outputs": [],
   "source": [
    "names = {'Accidentes de transporte de motor y secuelas ':'Accidentes de tránsito',\n",
    " 'Agresiones (homicidios) y secuelas ':'Homicidios',\n",
    " 'Cáncer':'Cáncer',\n",
    " 'Diabetes mellitus ':'Diabetes',\n",
    " 'Enfermedad por el VIH (SIDA) ':'VIH (SIDA)',\n",
    " 'Enfermedades cerebrovasculares ':'E. cerebrovasculares',\n",
    " 'Enfermedades crónicas de las vías respiratorias inferiores ':'E. vías resp. inferiores',\n",
    " 'Enfermedades del hígado ':'E. hígado',\n",
    " 'Enfermedades del sistema osteomuscular y del tejido conjuntivo ':'E. sist. osteomuscular',\n",
    " 'Enfermedades hipertensivas ':'E. hipertensivas',\n",
    " 'Enfermedades isquémicas del corazón ':'E. isquémicas del corazón',\n",
    " 'Insuficiencia renal ':'Ins. renal',\n",
    " 'Lesiones autoinfligidas intencionalmente (suicidios) y secuelas ':'Suicidios',\n",
    " 'Neumonía ':'Neumonía',\n",
    " 'Signos, síntomas y afecciones mal definidas ':'Afecciones mal definidas',\n",
    " 'Todas las demás enfermedades del sistema nervioso ':'E. sist. nervioso',\n",
    " 'Todas las demás enfermedades del sistema respiratorio ':'E. sist. respiratorio',\n",
    " 'Todas las demás enfermedades del sistema urinario':'E. sist. urinario',\n",
    " 'Todas las demás formas de enfermedad del corazón ':'E. del corazón',\n",
    " 'Covid-19':'** Covid-19 **'}"
   ]
  },
  {
   "cell_type": "code",
   "execution_count": 25,
   "metadata": {},
   "outputs": [],
   "source": [
    "df_cum = df_cum.rename(columns=names)"
   ]
  },
  {
   "cell_type": "code",
   "execution_count": 28,
   "metadata": {},
   "outputs": [
    {
     "data": {
      "text/html": [
       "<div>\n",
       "<style scoped>\n",
       "    .dataframe tbody tr th:only-of-type {\n",
       "        vertical-align: middle;\n",
       "    }\n",
       "\n",
       "    .dataframe tbody tr th {\n",
       "        vertical-align: top;\n",
       "    }\n",
       "\n",
       "    .dataframe thead th {\n",
       "        text-align: right;\n",
       "    }\n",
       "</style>\n",
       "<table border=\"1\" class=\"dataframe\">\n",
       "  <thead>\n",
       "    <tr style=\"text-align: right;\">\n",
       "      <th></th>\n",
       "      <th>Accidentes de tránsito</th>\n",
       "      <th>Homicidios</th>\n",
       "      <th>Diabetes</th>\n",
       "      <th>VIH (SIDA)</th>\n",
       "      <th>E. cerebrovasculares</th>\n",
       "      <th>E. vías resp. inferiores</th>\n",
       "      <th>E. hígado</th>\n",
       "      <th>E. hipertensivas</th>\n",
       "      <th>E. isquémicas del corazón</th>\n",
       "      <th>Ins. renal</th>\n",
       "      <th>Suicidios</th>\n",
       "      <th>Neumonía</th>\n",
       "      <th>Otros tumores</th>\n",
       "      <th>Afecciones mal definidas</th>\n",
       "      <th>E. sist. nervioso</th>\n",
       "      <th>E. sist. respiratorio</th>\n",
       "      <th>E. sist. urinario</th>\n",
       "      <th>E. del corazón</th>\n",
       "      <th>Tumores malignos</th>\n",
       "      <th>** Covid-19 **</th>\n",
       "    </tr>\n",
       "  </thead>\n",
       "  <tbody>\n",
       "    <tr>\n",
       "      <th>2020-01-01</th>\n",
       "      <td>629.000000</td>\n",
       "      <td>1138.000000</td>\n",
       "      <td>733.000000</td>\n",
       "      <td>251.000000</td>\n",
       "      <td>1323.000000</td>\n",
       "      <td>1242.000000</td>\n",
       "      <td>270.000000</td>\n",
       "      <td>834.000000</td>\n",
       "      <td>3585.000000</td>\n",
       "      <td>356.000000</td>\n",
       "      <td>253.000000</td>\n",
       "      <td>786.000000</td>\n",
       "      <td>305.000000</td>\n",
       "      <td>312.000000</td>\n",
       "      <td>266.000000</td>\n",
       "      <td>201.000000</td>\n",
       "      <td>189.0</td>\n",
       "      <td>354.000000</td>\n",
       "      <td>3527.000000</td>\n",
       "      <td>0.0</td>\n",
       "    </tr>\n",
       "    <tr>\n",
       "      <th>2020-02-01</th>\n",
       "      <td>1192.000000</td>\n",
       "      <td>2074.000000</td>\n",
       "      <td>1336.000000</td>\n",
       "      <td>469.000000</td>\n",
       "      <td>2535.000000</td>\n",
       "      <td>2201.000000</td>\n",
       "      <td>526.000000</td>\n",
       "      <td>1555.000000</td>\n",
       "      <td>6596.000000</td>\n",
       "      <td>648.000000</td>\n",
       "      <td>438.000000</td>\n",
       "      <td>1432.000000</td>\n",
       "      <td>561.000000</td>\n",
       "      <td>589.000000</td>\n",
       "      <td>508.000000</td>\n",
       "      <td>379.000000</td>\n",
       "      <td>357.0</td>\n",
       "      <td>697.000000</td>\n",
       "      <td>6609.000000</td>\n",
       "      <td>0.0</td>\n",
       "    </tr>\n",
       "    <tr>\n",
       "      <th>2020-03-01</th>\n",
       "      <td>1771.000000</td>\n",
       "      <td>3196.000000</td>\n",
       "      <td>1961.000000</td>\n",
       "      <td>709.000000</td>\n",
       "      <td>3871.000000</td>\n",
       "      <td>3297.000000</td>\n",
       "      <td>801.000000</td>\n",
       "      <td>2359.000000</td>\n",
       "      <td>9967.000000</td>\n",
       "      <td>977.000000</td>\n",
       "      <td>676.000000</td>\n",
       "      <td>2165.000000</td>\n",
       "      <td>873.000000</td>\n",
       "      <td>919.000000</td>\n",
       "      <td>799.000000</td>\n",
       "      <td>581.000000</td>\n",
       "      <td>560.0</td>\n",
       "      <td>1080.000000</td>\n",
       "      <td>10170.000000</td>\n",
       "      <td>0.0</td>\n",
       "    </tr>\n",
       "    <tr>\n",
       "      <th>2020-03-16</th>\n",
       "      <td>1808.500000</td>\n",
       "      <td>3274.285714</td>\n",
       "      <td>2006.642857</td>\n",
       "      <td>723.357143</td>\n",
       "      <td>3961.357143</td>\n",
       "      <td>3375.357143</td>\n",
       "      <td>818.857143</td>\n",
       "      <td>2406.857143</td>\n",
       "      <td>10195.214286</td>\n",
       "      <td>1001.142857</td>\n",
       "      <td>693.428571</td>\n",
       "      <td>2215.428571</td>\n",
       "      <td>892.000000</td>\n",
       "      <td>939.928571</td>\n",
       "      <td>817.357143</td>\n",
       "      <td>595.785714</td>\n",
       "      <td>575.5</td>\n",
       "      <td>1105.357143</td>\n",
       "      <td>10412.357143</td>\n",
       "      <td>1.0</td>\n",
       "    </tr>\n",
       "    <tr>\n",
       "      <th>2020-03-20</th>\n",
       "      <td>1846.000000</td>\n",
       "      <td>3352.571429</td>\n",
       "      <td>2052.285714</td>\n",
       "      <td>737.714286</td>\n",
       "      <td>4051.714286</td>\n",
       "      <td>3453.714286</td>\n",
       "      <td>836.714286</td>\n",
       "      <td>2454.714286</td>\n",
       "      <td>10423.428571</td>\n",
       "      <td>1025.285714</td>\n",
       "      <td>710.857143</td>\n",
       "      <td>2265.857143</td>\n",
       "      <td>911.000000</td>\n",
       "      <td>960.857143</td>\n",
       "      <td>835.714286</td>\n",
       "      <td>610.571429</td>\n",
       "      <td>591.0</td>\n",
       "      <td>1130.714286</td>\n",
       "      <td>10654.714286</td>\n",
       "      <td>4.0</td>\n",
       "    </tr>\n",
       "    <tr>\n",
       "      <th>...</th>\n",
       "      <td>...</td>\n",
       "      <td>...</td>\n",
       "      <td>...</td>\n",
       "      <td>...</td>\n",
       "      <td>...</td>\n",
       "      <td>...</td>\n",
       "      <td>...</td>\n",
       "      <td>...</td>\n",
       "      <td>...</td>\n",
       "      <td>...</td>\n",
       "      <td>...</td>\n",
       "      <td>...</td>\n",
       "      <td>...</td>\n",
       "      <td>...</td>\n",
       "      <td>...</td>\n",
       "      <td>...</td>\n",
       "      <td>...</td>\n",
       "      <td>...</td>\n",
       "      <td>...</td>\n",
       "      <td>...</td>\n",
       "    </tr>\n",
       "    <tr>\n",
       "      <th>2020-07-03</th>\n",
       "      <td>4191.857143</td>\n",
       "      <td>7639.714286</td>\n",
       "      <td>4923.714286</td>\n",
       "      <td>1655.857143</td>\n",
       "      <td>9673.285714</td>\n",
       "      <td>8719.857143</td>\n",
       "      <td>1938.857143</td>\n",
       "      <td>5581.428571</td>\n",
       "      <td>24583.857143</td>\n",
       "      <td>2540.000000</td>\n",
       "      <td>1726.571429</td>\n",
       "      <td>6098.428571</td>\n",
       "      <td>2077.714286</td>\n",
       "      <td>2252.714286</td>\n",
       "      <td>2025.285714</td>\n",
       "      <td>1696.285714</td>\n",
       "      <td>1480.0</td>\n",
       "      <td>2744.285714</td>\n",
       "      <td>25217.714286</td>\n",
       "      <td>4242.0</td>\n",
       "    </tr>\n",
       "    <tr>\n",
       "      <th>2020-07-04</th>\n",
       "      <td>4274.285714</td>\n",
       "      <td>7794.571429</td>\n",
       "      <td>5019.571429</td>\n",
       "      <td>1687.285714</td>\n",
       "      <td>9876.428571</td>\n",
       "      <td>8887.285714</td>\n",
       "      <td>1978.285714</td>\n",
       "      <td>5692.142857</td>\n",
       "      <td>25057.285714</td>\n",
       "      <td>2589.000000</td>\n",
       "      <td>1760.857143</td>\n",
       "      <td>6218.142857</td>\n",
       "      <td>2117.571429</td>\n",
       "      <td>2295.571429</td>\n",
       "      <td>2067.428571</td>\n",
       "      <td>1726.428571</td>\n",
       "      <td>1509.0</td>\n",
       "      <td>2797.428571</td>\n",
       "      <td>25727.571429</td>\n",
       "      <td>4318.0</td>\n",
       "    </tr>\n",
       "    <tr>\n",
       "      <th>2020-07-05</th>\n",
       "      <td>4356.714286</td>\n",
       "      <td>7949.428571</td>\n",
       "      <td>5115.428571</td>\n",
       "      <td>1718.714286</td>\n",
       "      <td>10079.571429</td>\n",
       "      <td>9054.714286</td>\n",
       "      <td>2017.714286</td>\n",
       "      <td>5802.857143</td>\n",
       "      <td>25530.714286</td>\n",
       "      <td>2638.000000</td>\n",
       "      <td>1795.142857</td>\n",
       "      <td>6337.857143</td>\n",
       "      <td>2157.428571</td>\n",
       "      <td>2338.428571</td>\n",
       "      <td>2109.571429</td>\n",
       "      <td>1756.571429</td>\n",
       "      <td>1538.0</td>\n",
       "      <td>2850.571429</td>\n",
       "      <td>26237.428571</td>\n",
       "      <td>4396.0</td>\n",
       "    </tr>\n",
       "    <tr>\n",
       "      <th>2020-07-06</th>\n",
       "      <td>4439.142857</td>\n",
       "      <td>8104.285714</td>\n",
       "      <td>5211.285714</td>\n",
       "      <td>1750.142857</td>\n",
       "      <td>10282.714286</td>\n",
       "      <td>9222.142857</td>\n",
       "      <td>2057.142857</td>\n",
       "      <td>5913.571429</td>\n",
       "      <td>26004.142857</td>\n",
       "      <td>2687.000000</td>\n",
       "      <td>1829.428571</td>\n",
       "      <td>6457.571429</td>\n",
       "      <td>2197.285714</td>\n",
       "      <td>2381.285714</td>\n",
       "      <td>2151.714286</td>\n",
       "      <td>1786.714286</td>\n",
       "      <td>1567.0</td>\n",
       "      <td>2903.714286</td>\n",
       "      <td>26747.285714</td>\n",
       "      <td>4450.0</td>\n",
       "    </tr>\n",
       "    <tr>\n",
       "      <th>2020-07-07</th>\n",
       "      <td>4521.571429</td>\n",
       "      <td>8259.142857</td>\n",
       "      <td>5307.142857</td>\n",
       "      <td>1781.571429</td>\n",
       "      <td>10485.857143</td>\n",
       "      <td>9389.571429</td>\n",
       "      <td>2096.571429</td>\n",
       "      <td>6024.285714</td>\n",
       "      <td>26477.571429</td>\n",
       "      <td>2736.000000</td>\n",
       "      <td>1863.714286</td>\n",
       "      <td>6577.285714</td>\n",
       "      <td>2237.142857</td>\n",
       "      <td>2424.142857</td>\n",
       "      <td>2193.857143</td>\n",
       "      <td>1816.857143</td>\n",
       "      <td>1596.0</td>\n",
       "      <td>2956.857143</td>\n",
       "      <td>27257.142857</td>\n",
       "      <td>4458.0</td>\n",
       "    </tr>\n",
       "  </tbody>\n",
       "</table>\n",
       "<p>114 rows × 20 columns</p>\n",
       "</div>"
      ],
      "text/plain": [
       "            Accidentes de tránsito   Homicidios     Diabetes   VIH (SIDA)  \\\n",
       "2020-01-01              629.000000  1138.000000   733.000000   251.000000   \n",
       "2020-02-01             1192.000000  2074.000000  1336.000000   469.000000   \n",
       "2020-03-01             1771.000000  3196.000000  1961.000000   709.000000   \n",
       "2020-03-16             1808.500000  3274.285714  2006.642857   723.357143   \n",
       "2020-03-20             1846.000000  3352.571429  2052.285714   737.714286   \n",
       "...                            ...          ...          ...          ...   \n",
       "2020-07-03             4191.857143  7639.714286  4923.714286  1655.857143   \n",
       "2020-07-04             4274.285714  7794.571429  5019.571429  1687.285714   \n",
       "2020-07-05             4356.714286  7949.428571  5115.428571  1718.714286   \n",
       "2020-07-06             4439.142857  8104.285714  5211.285714  1750.142857   \n",
       "2020-07-07             4521.571429  8259.142857  5307.142857  1781.571429   \n",
       "\n",
       "            E. cerebrovasculares  E. vías resp. inferiores    E. hígado  \\\n",
       "2020-01-01           1323.000000               1242.000000   270.000000   \n",
       "2020-02-01           2535.000000               2201.000000   526.000000   \n",
       "2020-03-01           3871.000000               3297.000000   801.000000   \n",
       "2020-03-16           3961.357143               3375.357143   818.857143   \n",
       "2020-03-20           4051.714286               3453.714286   836.714286   \n",
       "...                          ...                       ...          ...   \n",
       "2020-07-03           9673.285714               8719.857143  1938.857143   \n",
       "2020-07-04           9876.428571               8887.285714  1978.285714   \n",
       "2020-07-05          10079.571429               9054.714286  2017.714286   \n",
       "2020-07-06          10282.714286               9222.142857  2057.142857   \n",
       "2020-07-07          10485.857143               9389.571429  2096.571429   \n",
       "\n",
       "            E. hipertensivas  E. isquémicas del corazón   Ins. renal  \\\n",
       "2020-01-01        834.000000                3585.000000   356.000000   \n",
       "2020-02-01       1555.000000                6596.000000   648.000000   \n",
       "2020-03-01       2359.000000                9967.000000   977.000000   \n",
       "2020-03-16       2406.857143               10195.214286  1001.142857   \n",
       "2020-03-20       2454.714286               10423.428571  1025.285714   \n",
       "...                      ...                        ...          ...   \n",
       "2020-07-03       5581.428571               24583.857143  2540.000000   \n",
       "2020-07-04       5692.142857               25057.285714  2589.000000   \n",
       "2020-07-05       5802.857143               25530.714286  2638.000000   \n",
       "2020-07-06       5913.571429               26004.142857  2687.000000   \n",
       "2020-07-07       6024.285714               26477.571429  2736.000000   \n",
       "\n",
       "              Suicidios     Neumonía  Otros tumores  Afecciones mal definidas  \\\n",
       "2020-01-01   253.000000   786.000000     305.000000                312.000000   \n",
       "2020-02-01   438.000000  1432.000000     561.000000                589.000000   \n",
       "2020-03-01   676.000000  2165.000000     873.000000                919.000000   \n",
       "2020-03-16   693.428571  2215.428571     892.000000                939.928571   \n",
       "2020-03-20   710.857143  2265.857143     911.000000                960.857143   \n",
       "...                 ...          ...            ...                       ...   \n",
       "2020-07-03  1726.571429  6098.428571    2077.714286               2252.714286   \n",
       "2020-07-04  1760.857143  6218.142857    2117.571429               2295.571429   \n",
       "2020-07-05  1795.142857  6337.857143    2157.428571               2338.428571   \n",
       "2020-07-06  1829.428571  6457.571429    2197.285714               2381.285714   \n",
       "2020-07-07  1863.714286  6577.285714    2237.142857               2424.142857   \n",
       "\n",
       "            E. sist. nervioso  E. sist. respiratorio  E. sist. urinario  \\\n",
       "2020-01-01         266.000000             201.000000              189.0   \n",
       "2020-02-01         508.000000             379.000000              357.0   \n",
       "2020-03-01         799.000000             581.000000              560.0   \n",
       "2020-03-16         817.357143             595.785714              575.5   \n",
       "2020-03-20         835.714286             610.571429              591.0   \n",
       "...                       ...                    ...                ...   \n",
       "2020-07-03        2025.285714            1696.285714             1480.0   \n",
       "2020-07-04        2067.428571            1726.428571             1509.0   \n",
       "2020-07-05        2109.571429            1756.571429             1538.0   \n",
       "2020-07-06        2151.714286            1786.714286             1567.0   \n",
       "2020-07-07        2193.857143            1816.857143             1596.0   \n",
       "\n",
       "            E. del corazón  Tumores malignos  ** Covid-19 **  \n",
       "2020-01-01      354.000000       3527.000000             0.0  \n",
       "2020-02-01      697.000000       6609.000000             0.0  \n",
       "2020-03-01     1080.000000      10170.000000             0.0  \n",
       "2020-03-16     1105.357143      10412.357143             1.0  \n",
       "2020-03-20     1130.714286      10654.714286             4.0  \n",
       "...                    ...               ...             ...  \n",
       "2020-07-03     2744.285714      25217.714286          4242.0  \n",
       "2020-07-04     2797.428571      25727.571429          4318.0  \n",
       "2020-07-05     2850.571429      26237.428571          4396.0  \n",
       "2020-07-06     2903.714286      26747.285714          4450.0  \n",
       "2020-07-07     2956.857143      27257.142857          4458.0  \n",
       "\n",
       "[114 rows x 20 columns]"
      ]
     },
     "execution_count": 28,
     "metadata": {},
     "output_type": "execute_result"
    }
   ],
   "source": [
    "df_cum"
   ]
  },
  {
   "cell_type": "code",
   "execution_count": null,
   "metadata": {},
   "outputs": [],
   "source": [
    "bcr.bar_chart_race(df=df_cum.iloc[:-1], period_length=500)"
   ]
  }
 ],
 "metadata": {
  "kernelspec": {
   "display_name": "Python 3",
   "language": "python",
   "name": "python3"
  },
  "language_info": {
   "codemirror_mode": {
    "name": "ipython",
    "version": 3
   },
   "file_extension": ".py",
   "mimetype": "text/x-python",
   "name": "python",
   "nbconvert_exporter": "python",
   "pygments_lexer": "ipython3",
   "version": "3.8.0"
  }
 },
 "nbformat": 4,
 "nbformat_minor": 2
}
