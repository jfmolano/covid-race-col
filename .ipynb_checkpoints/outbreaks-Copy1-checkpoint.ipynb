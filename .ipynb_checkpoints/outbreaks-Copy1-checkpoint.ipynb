{
 "cells": [
  {
   "cell_type": "code",
   "execution_count": 1,
   "metadata": {},
   "outputs": [],
   "source": [
    "import chart_studio.plotly as py\n",
    "import plotly.graph_objects as go"
   ]
  },
  {
   "cell_type": "code",
   "execution_count": 2,
   "metadata": {},
   "outputs": [],
   "source": [
    "import plotly.express as px"
   ]
  },
  {
   "cell_type": "code",
   "execution_count": 3,
   "metadata": {},
   "outputs": [],
   "source": [
    "from plotly.subplots import make_subplots"
   ]
  },
  {
   "cell_type": "code",
   "execution_count": 4,
   "metadata": {},
   "outputs": [],
   "source": [
    "import pandas as pd"
   ]
  },
  {
   "cell_type": "code",
   "execution_count": 5,
   "metadata": {},
   "outputs": [],
   "source": [
    "import numpy as np"
   ]
  },
  {
   "cell_type": "code",
   "execution_count": 6,
   "metadata": {},
   "outputs": [],
   "source": [
    "import datetime"
   ]
  },
  {
   "cell_type": "code",
   "execution_count": 7,
   "metadata": {},
   "outputs": [],
   "source": [
    "import colorlover as cl"
   ]
  },
  {
   "cell_type": "code",
   "execution_count": 8,
   "metadata": {},
   "outputs": [],
   "source": [
    "from matplotlib import pyplot as plt"
   ]
  },
  {
   "cell_type": "code",
   "execution_count": 9,
   "metadata": {},
   "outputs": [],
   "source": [
    "%matplotlib inline"
   ]
  },
  {
   "cell_type": "code",
   "execution_count": 10,
   "metadata": {},
   "outputs": [],
   "source": [
    "df_censo = pd.read_excel(\"./CNPV-2018-VIHOPE-v2.xls\")"
   ]
  },
  {
   "cell_type": "code",
   "execution_count": null,
   "metadata": {},
   "outputs": [],
   "source": [
    "df_covid = pd.read_csv(\"https://www.datos.gov.co/api/views/gt2j-8ykr/rows.csv?accessType=DOWNLOAD\")"
   ]
  },
  {
   "cell_type": "code",
   "execution_count": null,
   "metadata": {},
   "outputs": [],
   "source": [
    "df_covid[\"Departamento o Distrito \"].unique()"
   ]
  },
  {
   "cell_type": "code",
   "execution_count": null,
   "metadata": {},
   "outputs": [],
   "source": [
    "df_covid[\"Departamento o Distrito \"] = df_covid[\"Departamento o Distrito \"].apply(lambda x:\"San Andrés, Providencia y S. Catalina\" if x==\"Archipiélago de San Andrés Providencia y Santa Catalina\" else x)"
   ]
  },
  {
   "cell_type": "code",
   "execution_count": null,
   "metadata": {},
   "outputs": [],
   "source": [
    "def parse(x):\n",
    "    if x==x:\n",
    "        try:\n",
    "            return datetime.datetime.strptime(x, '%Y-%m-%dT%H:%M:%S.%f')\n",
    "        except:\n",
    "            return pd.NaT\n",
    "    else:\n",
    "        return pd.NaT"
   ]
  },
  {
   "cell_type": "code",
   "execution_count": null,
   "metadata": {},
   "outputs": [],
   "source": [
    "df_covid[\"Código DIVIPOLA\"].isna().sum()"
   ]
  },
  {
   "cell_type": "code",
   "execution_count": null,
   "metadata": {},
   "outputs": [],
   "source": [
    "date_cols = [\"Fecha de notificación\",\"FIS\",\"Fecha de muerte\",\"Fecha diagnostico\",\"Fecha recuperado\",\"fecha reporte web\"]"
   ]
  },
  {
   "cell_type": "code",
   "execution_count": null,
   "metadata": {},
   "outputs": [],
   "source": [
    "for columns in date_cols:\n",
    "    df_covid[columns] = df_covid[columns].apply(parse)"
   ]
  },
  {
   "cell_type": "code",
   "execution_count": null,
   "metadata": {},
   "outputs": [],
   "source": [
    "df_covid.columns"
   ]
  },
  {
   "cell_type": "code",
   "execution_count": null,
   "metadata": {},
   "outputs": [],
   "source": [
    "(df_covid[\"FIS\"].isna()).sum()"
   ]
  },
  {
   "cell_type": "code",
   "execution_count": null,
   "metadata": {},
   "outputs": [],
   "source": [
    "df_covid[\"Estado\"].value_counts()"
   ]
  },
  {
   "cell_type": "code",
   "execution_count": null,
   "metadata": {},
   "outputs": [],
   "source": [
    "(df_covid[\"Fecha diagnostico\"] - df_covid[\"FIS\"]).quantile(0.9)"
   ]
  },
  {
   "cell_type": "code",
   "execution_count": null,
   "metadata": {},
   "outputs": [],
   "source": [
    "df_covid[\"date\"] = df_covid.apply(lambda x:x[\"FIS\"] if pd.isna(x[\"FIS\"]) else x[\"Fecha diagnostico\"], axis=1)"
   ]
  },
  {
   "cell_type": "markdown",
   "metadata": {},
   "source": [
    "___"
   ]
  },
  {
   "cell_type": "code",
   "execution_count": null,
   "metadata": {},
   "outputs": [],
   "source": [
    "l_charts = []"
   ]
  },
  {
   "cell_type": "code",
   "execution_count": null,
   "metadata": {},
   "outputs": [],
   "source": [
    "df_plot = df_covid.groupby([\"date\"]).count()[\"Código DIVIPOLA\"].to_frame().reset_index()"
   ]
  },
  {
   "cell_type": "code",
   "execution_count": null,
   "metadata": {},
   "outputs": [],
   "source": [
    "df_plot[\"m_avg\"] = df_plot[\"Código DIVIPOLA\"].rolling(window=7).mean()"
   ]
  },
  {
   "cell_type": "code",
   "execution_count": null,
   "metadata": {},
   "outputs": [],
   "source": [
    "load_data_zone = (df_covid[\"Fecha diagnostico\"] - df_covid[\"FIS\"]).quantile(0.9)"
   ]
  },
  {
   "cell_type": "code",
   "execution_count": null,
   "metadata": {},
   "outputs": [],
   "source": [
    "fig = px.line(x=df_plot['date'], y=df_plot[\"m_avg\"])\n",
    "fig.update_traces(line_color='black')\n",
    "fig.add_bar(x=df_plot['date'], y=df_plot[\"Código DIVIPOLA\"], marker_color=\"gray\")\n",
    "fig.update_layout(title_text=\"Casos diarios y promedio móvil de 7 días\",showlegend=False)\n",
    "fig.add_trace(\n",
    "    go.Scatter(x=[df_plot[\"date\"].max() - load_data_zone,df_plot[\"date\"].max(),df_plot[\"date\"].max(),df_plot[\"date\"].max() - load_data_zone,df_plot[\"date\"].max() - load_data_zone], y=[0,0,df_plot[\"Código DIVIPOLA\"].max(),df_plot[\"Código DIVIPOLA\"].max(),0], fill=\"toself\", marker_color=\"gray\", opacity=0.9, marker_size=1),\n",
    ")\n",
    "fig['layout']['yaxis']['title'] = \"Casos diarios\"\n",
    "fig['layout']['xaxis']['title'] = \"Fecha\"\n",
    "l_charts.append(fig)"
   ]
  },
  {
   "cell_type": "code",
   "execution_count": null,
   "metadata": {
    "scrolled": false
   },
   "outputs": [],
   "source": [
    "fig = make_subplots(rows=13, cols=3,\n",
    "    subplot_titles=list(df_covid[\"Departamento o Distrito \"].value_counts().index))\n",
    "\n",
    "for n,depto in enumerate(list(df_covid[\"Departamento o Distrito \"].value_counts().index)):\n",
    "    \n",
    "    df_filter_depto = df_covid.loc[df_covid[\"Departamento o Distrito \"]==depto]\n",
    "    \n",
    "    load_data_zone = (df_filter_depto[\"Fecha diagnostico\"] - df_filter_depto[\"FIS\"]).quantile(0.9)\n",
    "    \n",
    "    df_filter_depto = df_filter_depto.groupby([\"date\"]).count()[\"Código DIVIPOLA\"].to_frame().reset_index()\n",
    "    \n",
    "    df_filter_depto[\"m_avg\"] = df_filter_depto[\"Código DIVIPOLA\"].rolling(window=7).mean()\n",
    "\n",
    "    fig.add_trace(\n",
    "        go.Bar(x=df_filter_depto[\"date\"], y=df_filter_depto[\"Código DIVIPOLA\"],marker_color=\"gray\"),\n",
    "        row=(n//3+1), col=(n%3+1)\n",
    "    )\n",
    "    \n",
    "    fig.add_trace(\n",
    "        go.Scatter(x=df_filter_depto[\"date\"], y=df_filter_depto[\"m_avg\"],marker_color=\"black\"),\n",
    "        row=(n//3+1), col=(n%3+1)\n",
    "    )\n",
    "    \n",
    "    fig.add_trace(\n",
    "        go.Scatter(x=[df_filter_depto[\"date\"].max() - load_data_zone,df_filter_depto[\"date\"].max(),df_filter_depto[\"date\"].max(),df_filter_depto[\"date\"].max() - load_data_zone,df_filter_depto[\"date\"].max() - load_data_zone], y=[0,0,df_filter_depto[\"Código DIVIPOLA\"].max(),df_filter_depto[\"Código DIVIPOLA\"].max(),0], fill=\"toself\", marker_color=\"gray\", opacity=0.9, marker_size=1),\n",
    "        row=(n//3+1), col=(n%3+1)\n",
    "    )\n",
    "\n",
    "fig.update_layout(height=2500, width=900, title_text=\"Casos diarios por departamentos\",showlegend=False)\n",
    "l_charts.append(fig)"
   ]
  },
  {
   "cell_type": "code",
   "execution_count": null,
   "metadata": {},
   "outputs": [],
   "source": [
    "for i in range(4):\n",
    "    \n",
    "    top = (i+1)*9+1 if i==3 else (i+1)*9\n",
    "\n",
    "    fig = make_subplots(rows=(4 if i==3 else 3), cols=3,\n",
    "        subplot_titles=list(df_covid[\"Departamento o Distrito \"].value_counts().index)[i*9:top])\n",
    "\n",
    "    for n,depto in enumerate(list(df_covid[\"Departamento o Distrito \"].value_counts().index)[i*9:top]):\n",
    "\n",
    "        df_filter_depto = df_covid.loc[df_covid[\"Departamento o Distrito \"]==depto]\n",
    "\n",
    "        load_data_zone = (df_filter_depto[\"Fecha diagnostico\"] - df_filter_depto[\"FIS\"]).quantile(0.9)\n",
    "\n",
    "        df_filter_depto = df_filter_depto.groupby([\"date\"]).count()[\"Código DIVIPOLA\"].to_frame().reset_index()\n",
    "\n",
    "        df_filter_depto[\"m_avg\"] = df_filter_depto[\"Código DIVIPOLA\"].rolling(window=7).mean()\n",
    "\n",
    "        fig.add_trace(\n",
    "            go.Bar(x=df_filter_depto[\"date\"], y=df_filter_depto[\"Código DIVIPOLA\"],marker_color=\"gray\"),\n",
    "            row=(n//3+1), col=(n%3+1)\n",
    "        )\n",
    "\n",
    "        fig.add_trace(\n",
    "            go.Scatter(x=df_filter_depto[\"date\"], y=df_filter_depto[\"m_avg\"],marker_color=\"black\"),\n",
    "            row=(n//3+1), col=(n%3+1)\n",
    "        )\n",
    "\n",
    "        fig.add_trace(\n",
    "            go.Scatter(x=[df_filter_depto[\"date\"].max() - load_data_zone,df_filter_depto[\"date\"].max(),df_filter_depto[\"date\"].max(),df_filter_depto[\"date\"].max() - load_data_zone,df_filter_depto[\"date\"].max() - load_data_zone], y=[0,0,df_filter_depto[\"Código DIVIPOLA\"].max(),df_filter_depto[\"Código DIVIPOLA\"].max(),0], fill=\"toself\", marker_color=\"gray\", opacity=0.9, marker_size=1),\n",
    "            row=(n//3+1), col=(n%3+1)\n",
    "        )\n",
    "\n",
    "    fig.update_layout(height=1200 if i==3 else 900, width=900, title_text=\"Casos diarios por departamentos\",showlegend=False)\n",
    "    fig.write_image(\"casos_%s.png\" % i)"
   ]
  },
  {
   "cell_type": "markdown",
   "metadata": {},
   "source": [
    "# Deaths"
   ]
  },
  {
   "cell_type": "code",
   "execution_count": null,
   "metadata": {},
   "outputs": [],
   "source": [
    "df_covid.columns"
   ]
  },
  {
   "cell_type": "code",
   "execution_count": null,
   "metadata": {},
   "outputs": [],
   "source": [
    "df_covid_death = df_covid.loc[~df_covid[\"Fecha de muerte\"].isna()]\n",
    "len(df_covid_death)"
   ]
  },
  {
   "cell_type": "code",
   "execution_count": null,
   "metadata": {},
   "outputs": [],
   "source": [
    "df_plot = df_covid_death.groupby([\"Fecha de muerte\"]).count()[\"Código DIVIPOLA\"].to_frame().reset_index()"
   ]
  },
  {
   "cell_type": "code",
   "execution_count": null,
   "metadata": {},
   "outputs": [],
   "source": [
    "df_plot[\"m_avg\"] = df_plot[\"Código DIVIPOLA\"].rolling(window=7).mean()"
   ]
  },
  {
   "cell_type": "code",
   "execution_count": null,
   "metadata": {},
   "outputs": [],
   "source": [
    "load_data_zone = (df_covid[\"Fecha diagnostico\"] - df_covid[\"FIS\"]).quantile(0.9)"
   ]
  },
  {
   "cell_type": "code",
   "execution_count": null,
   "metadata": {
    "scrolled": false
   },
   "outputs": [],
   "source": [
    "fig = px.line(x=df_plot['Fecha de muerte'], y=df_plot[\"m_avg\"])\n",
    "fig.update_traces(line_color='darkred')\n",
    "fig.add_bar(x=df_plot['Fecha de muerte'], y=df_plot[\"Código DIVIPOLA\"], marker_color=\"lightcoral\")\n",
    "fig.update_layout(title_text=\"Muertes diarias y promedio móvil de 7 días\",showlegend=False)\n",
    "fig.add_trace(\n",
    "    go.Scatter(x=[df_plot[\"Fecha de muerte\"].max() - load_data_zone,df_plot[\"Fecha de muerte\"].max(),df_plot[\"Fecha de muerte\"].max(),df_plot[\"Fecha de muerte\"].max() - load_data_zone,df_plot[\"Fecha de muerte\"].max() - load_data_zone], y=[0,0,df_plot[\"Código DIVIPOLA\"].max(),df_plot[\"Código DIVIPOLA\"].max(),0], fill=\"toself\", marker_color=\"darkred\", opacity=0.8, marker_size=1),\n",
    ")\n",
    "fig['layout']['yaxis']['title'] = \"Muertes diarias\"\n",
    "fig['layout']['xaxis']['title'] = \"Fecha\"\n",
    "l_charts.append(fig)"
   ]
  },
  {
   "cell_type": "code",
   "execution_count": null,
   "metadata": {
    "scrolled": false
   },
   "outputs": [],
   "source": [
    "fig = make_subplots(rows=13, cols=3,\n",
    "    subplot_titles=list(df_covid_death[\"Departamento o Distrito \"].value_counts().index))\n",
    "\n",
    "for n,depto in enumerate(list(df_covid_death[\"Departamento o Distrito \"].value_counts().index)):\n",
    "    \n",
    "    df_filter_depto = df_covid.loc[df_covid[\"Departamento o Distrito \"]==depto]\n",
    "    \n",
    "    load_data_zone = (df_filter_depto[\"Fecha diagnostico\"] - df_filter_depto[\"FIS\"]).quantile(0.9)\n",
    "    \n",
    "    df_filter_depto = df_filter_depto.loc[~df_covid[\"Fecha de muerte\"].isna()]\n",
    "    \n",
    "    df_filter_depto = df_filter_depto.groupby([\"Fecha de muerte\"]).count()[\"Código DIVIPOLA\"].to_frame().reset_index()\n",
    "    \n",
    "    df_filter_depto[\"m_avg\"] = df_filter_depto[\"Código DIVIPOLA\"].rolling(window=7).mean()\n",
    "\n",
    "    fig.add_trace(\n",
    "        go.Bar(x=df_filter_depto[\"Fecha de muerte\"], y=df_filter_depto[\"Código DIVIPOLA\"],marker_color=\"darkred\"),\n",
    "        row=(n//3+1), col=(n%3+1)\n",
    "    )\n",
    "    \n",
    "    fig.add_trace(\n",
    "        go.Scatter(x=df_filter_depto[\"Fecha de muerte\"], y=df_filter_depto[\"m_avg\"],marker_color=\"darkred\"),\n",
    "        row=(n//3+1), col=(n%3+1)\n",
    "    )\n",
    "    \n",
    "    fig.add_trace(\n",
    "        go.Scatter(x=[df_filter_depto[\"Fecha de muerte\"].max() - load_data_zone,df_filter_depto[\"Fecha de muerte\"].max(),df_filter_depto[\"Fecha de muerte\"].max(),df_filter_depto[\"Fecha de muerte\"].max() - load_data_zone,df_filter_depto[\"Fecha de muerte\"].max() - load_data_zone], y=[0,0,df_filter_depto[\"Código DIVIPOLA\"].max(),df_filter_depto[\"Código DIVIPOLA\"].max(),0], fill=\"toself\", marker_color=\"darkred\", opacity=0.9, marker_size=1),\n",
    "        row=(n//3+1), col=(n%3+1)\n",
    "    )\n",
    "\n",
    "fig.update_layout(height=2500, width=900, title_text=\"Muertes diarias por departamentos\",showlegend=False)\n",
    "l_charts.append(fig)"
   ]
  },
  {
   "cell_type": "code",
   "execution_count": null,
   "metadata": {},
   "outputs": [],
   "source": [
    "for i in range(4):\n",
    "    \n",
    "    top = (i+1)*9+1 if i==3 else (i+1)*9\n",
    "\n",
    "    fig = make_subplots(rows=(4 if i==3 else 3), cols=3,\n",
    "        subplot_titles=list(df_covid_death[\"Departamento o Distrito \"].value_counts().index)[i*9:top])\n",
    "\n",
    "    for n,depto in enumerate(list(df_covid_death[\"Departamento o Distrito \"].value_counts().index)[i*9:top]):\n",
    "\n",
    "        df_filter_depto = df_covid.loc[df_covid[\"Departamento o Distrito \"]==depto]\n",
    "\n",
    "        load_data_zone = (df_filter_depto[\"Fecha diagnostico\"] - df_filter_depto[\"FIS\"]).quantile(0.9)\n",
    "        \n",
    "        df_filter_depto = df_filter_depto.loc[~df_covid[\"Fecha de muerte\"].isna()]\n",
    "\n",
    "        df_filter_depto = df_filter_depto.groupby([\"Fecha de muerte\"]).count()[\"Código DIVIPOLA\"].to_frame().reset_index()\n",
    "\n",
    "        df_filter_depto[\"m_avg\"] = df_filter_depto[\"Código DIVIPOLA\"].rolling(window=7).mean()\n",
    "\n",
    "        fig.add_trace(\n",
    "            go.Bar(x=df_filter_depto[\"Fecha de muerte\"], y=df_filter_depto[\"Código DIVIPOLA\"],marker_color=\"darkred\"),\n",
    "            row=(n//3+1), col=(n%3+1)\n",
    "        )\n",
    "\n",
    "        fig.add_trace(\n",
    "            go.Scatter(x=df_filter_depto[\"Fecha de muerte\"], y=df_filter_depto[\"m_avg\"],marker_color=\"darkred\"),\n",
    "            row=(n//3+1), col=(n%3+1)\n",
    "        )\n",
    "\n",
    "        fig.add_trace(\n",
    "            go.Scatter(x=[df_filter_depto[\"Fecha de muerte\"].max() - load_data_zone,df_filter_depto[\"Fecha de muerte\"].max(),df_filter_depto[\"Fecha de muerte\"].max(),df_filter_depto[\"Fecha de muerte\"].max() - load_data_zone,df_filter_depto[\"Fecha de muerte\"].max() - load_data_zone], y=[0,0,df_filter_depto[\"Código DIVIPOLA\"].max(),df_filter_depto[\"Código DIVIPOLA\"].max(),0], fill=\"toself\", marker_color=\"darkred\", opacity=0.9, marker_size=1),\n",
    "            row=(n//3+1), col=(n%3+1)\n",
    "        )\n",
    "\n",
    "    fig.update_layout(height=1200 if i==3 else 900, width=900, title_text=\"Muertes diarias por departamentos\",showlegend=False)\n",
    "    fig.write_image(\"muertes_%s.png\" % i)"
   ]
  },
  {
   "cell_type": "code",
   "execution_count": null,
   "metadata": {},
   "outputs": [],
   "source": [
    "df_rolling_deaths = df_covid_death.groupby([\"Fecha de muerte\",\"Departamento o Distrito \"])[\"Código DIVIPOLA\"].count().unstack().fillna(0).rolling(window=7).mean()"
   ]
  },
  {
   "cell_type": "code",
   "execution_count": null,
   "metadata": {},
   "outputs": [],
   "source": [
    "load_data_zone"
   ]
  },
  {
   "cell_type": "code",
   "execution_count": null,
   "metadata": {},
   "outputs": [],
   "source": [
    "l_peak_dates = []\n",
    "for depto in df_rolling_deaths.columns:\n",
    "    #print(depto)\n",
    "    max_date = list(df_rolling_deaths[depto].to_frame().loc[df_rolling_deaths[depto]==df_rolling_deaths[depto].max()].tail(1).index)[0]\n",
    "    #print(max_date)\n",
    "    l_peak_dates.append(\n",
    "        {\"start_date\":max_date,\"end_date\":max_date+pd.Timedelta('2 days'),\"depto\":depto}\n",
    "    )"
   ]
  },
  {
   "cell_type": "code",
   "execution_count": null,
   "metadata": {},
   "outputs": [],
   "source": [
    "df_peak_dates = pd.DataFrame(l_peak_dates)"
   ]
  },
  {
   "cell_type": "code",
   "execution_count": null,
   "metadata": {},
   "outputs": [],
   "source": [
    "l_labels = []\n",
    "for n,d in enumerate(df_peak_dates.sort_values(\"start_date\").to_dict(orient=\"records\")):\n",
    "    l_labels.append(\n",
    "        dict(\n",
    "            x=d[\"end_date\"]+pd.Timedelta('5 days'),\n",
    "            y=len(df_peak_dates)-(n+1),\n",
    "            text=d[\"depto\"],\n",
    "            showarrow=False,\n",
    "            font=dict(color='black',size=12)\n",
    "        )\n",
    "    )"
   ]
  },
  {
   "cell_type": "code",
   "execution_count": null,
   "metadata": {},
   "outputs": [],
   "source": [
    "l_order = list(df_peak_dates.sort_values(\"start_date\")[\"depto\"])"
   ]
  },
  {
   "cell_type": "code",
   "execution_count": null,
   "metadata": {},
   "outputs": [],
   "source": [
    "fig = px.timeline(df_peak_dates, x_start=\"start_date\", x_end=\"end_date\", y=\"depto\",category_orders={\"depto\":l_order})\n",
    "fig.update_layout(height=700, title_text=\"Fecha del máximo valor en promedio de muertes por departamento\",showlegend=False)\n",
    "fig['layout']['annotations'] = l_labels\n",
    "fig['layout']['yaxis']['showticklabels'] = False\n",
    "fig['layout']['yaxis']['visible'] = False\n",
    "fig['layout']['xaxis']['dtick'] = \"M1\"\n",
    "\n",
    "l_charts.append(fig)"
   ]
  },
  {
   "cell_type": "code",
   "execution_count": null,
   "metadata": {},
   "outputs": [],
   "source": [
    "load_data_zone = (df_covid[\"Fecha diagnostico\"] - df_covid[\"FIS\"]).quantile(0.9)"
   ]
  },
  {
   "cell_type": "code",
   "execution_count": null,
   "metadata": {},
   "outputs": [],
   "source": [
    "df_covid_cases_load = df_covid.loc[\n",
    "    (df_covid[\"date\"] < (df_covid[\"date\"].max() - load_data_zone)) &\n",
    "    (df_covid[\"date\"] >= (df_covid[\"date\"].max() - load_data_zone - pd.Timedelta('14 days')))\n",
    "]"
   ]
  },
  {
   "cell_type": "code",
   "execution_count": null,
   "metadata": {},
   "outputs": [],
   "source": [
    "df_covid_cases_load[\"week\"] = df_covid_cases_load[\"date\"].apply(lambda x:\"current_week\" if (x > (df_covid_cases_load[\"date\"].max()-pd.Timedelta('7 days'))) else \"previous_week\")"
   ]
  },
  {
   "cell_type": "code",
   "execution_count": null,
   "metadata": {},
   "outputs": [],
   "source": [
    "current_week_max = datetime.datetime.strftime(df_covid_cases_load.loc[df_covid_cases_load[\"week\"]==\"current_week\"][\"date\"].max(), '%d-%m')\n",
    "current_week_min = datetime.datetime.strftime(df_covid_cases_load.loc[df_covid_cases_load[\"week\"]==\"current_week\"][\"date\"].min(), '%d-%m')\n",
    "previous_week_max = datetime.datetime.strftime(df_covid_cases_load.loc[df_covid_cases_load[\"week\"]==\"previous_week\"][\"date\"].max(), '%d-%m')\n",
    "previous_week_min = datetime.datetime.strftime(df_covid_cases_load.loc[df_covid_cases_load[\"week\"]==\"previous_week\"][\"date\"].min(), '%d-%m')"
   ]
  },
  {
   "cell_type": "code",
   "execution_count": null,
   "metadata": {},
   "outputs": [],
   "source": [
    "df_covid_cases_per_pop = df_covid.loc[\n",
    "    (df_covid[\"date\"] < (df_covid[\"date\"].max() - load_data_zone)) &\n",
    "    (df_covid[\"date\"] >= (df_covid[\"date\"].max() - load_data_zone - pd.Timedelta('7 days')))\n",
    "]"
   ]
  },
  {
   "cell_type": "code",
   "execution_count": null,
   "metadata": {},
   "outputs": [],
   "source": [
    "df_covid_cases_per_pop = df_covid_cases_per_pop.groupby([\"Código DIVIPOLA\"]).count()[\"ID de caso\"].reset_index()"
   ]
  },
  {
   "cell_type": "code",
   "execution_count": null,
   "metadata": {},
   "outputs": [],
   "source": [
    "df_covid_cases_per_pop = pd.merge(df_censo,df_covid_cases_per_pop,on=\"Código DIVIPOLA\", how=\"inner\")"
   ]
  },
  {
   "cell_type": "code",
   "execution_count": null,
   "metadata": {},
   "outputs": [],
   "source": [
    "df_covid_cases_per_pop[\"cases_per_pop\"] = df_covid_cases_per_pop[\"ID de caso\"]*1e5/df_covid_cases_per_pop[\"Población total\"]"
   ]
  },
  {
   "cell_type": "code",
   "execution_count": null,
   "metadata": {},
   "outputs": [],
   "source": [
    "df_select_table = df_covid_cases_per_pop.loc[(df_covid_cases_per_pop[\"Población total\"]>50000)].sort_values(\"cases_per_pop\", ascending=False)"
   ]
  },
  {
   "cell_type": "code",
   "execution_count": null,
   "metadata": {},
   "outputs": [],
   "source": [
    "color_list = list(((df_select_table[\"cases_per_pop\"].head(10).astype(int)/(df_select_table[\"cases_per_pop\"].head(10).astype(int)).max())*5).astype(int).apply(lambda x:cl.flipper()['seq']['9']['Purples'][x]))"
   ]
  },
  {
   "cell_type": "code",
   "execution_count": null,
   "metadata": {},
   "outputs": [],
   "source": [
    "fig = go.Figure(data=[go.Table(header=dict(values=['Municipio', 'Población', 'Casos semana %s a %s por 100K' % (current_week_min,current_week_max)]),\n",
    "                 columnwidth = [70,60,90],\n",
    "                 cells=dict(values=[\n",
    "                     df_select_table[\"NOMBRE MUNICIPIO\"].head(10) + \", \" + df_select_table[\"NOMBRE DEPARTAMENTO\"].head(10),\n",
    "                     df_select_table[\"Población total\"].head(10),\n",
    "                     df_select_table[\"cases_per_pop\"].head(10).astype(int)\n",
    "                 ],\n",
    "                 align=['left', 'center', 'center', 'center'],\n",
    "                 fill = dict(color=['rgb(245, 245, 245)','rgb(245, 245, 245)',color_list])\n",
    "                ))\n",
    "            ])\n",
    "fig.update_layout(height=450, title_text=\"Municipios con más casos por 100.000 habitantes en la última semana antes de rezago\",showlegend=False)\n",
    "l_charts.append(fig)\n",
    "#fig"
   ]
  },
  {
   "cell_type": "code",
   "execution_count": null,
   "metadata": {},
   "outputs": [],
   "source": [
    "df_select_table = df_covid_cases_per_pop.sort_values(\"Población total\", ascending=False).head(25).sort_values(\"cases_per_pop\", ascending=False)"
   ]
  },
  {
   "cell_type": "code",
   "execution_count": null,
   "metadata": {},
   "outputs": [],
   "source": [
    "color_list = list(((df_select_table[\"cases_per_pop\"].head(10).astype(int)/(df_select_table[\"cases_per_pop\"].head(10).astype(int)).max())*5).astype(int).apply(lambda x:cl.flipper()['seq']['9']['Purples'][x]))"
   ]
  },
  {
   "cell_type": "code",
   "execution_count": null,
   "metadata": {},
   "outputs": [],
   "source": [
    "fig = go.Figure(data=[go.Table(header=dict(values=['Municipio', 'Población', 'Casos semana %s a %s por 100K' % (current_week_min,current_week_max)]),\n",
    "                 columnwidth = [90,60,60],\n",
    "                 cells=dict(values=[\n",
    "                     df_select_table[\"NOMBRE MUNICIPIO\"] + \", \" + df_select_table[\"NOMBRE DEPARTAMENTO\"],\n",
    "                     df_select_table[\"Población total\"].apply(lambda x:'{:,}'.format(x).replace(',', '.')),\n",
    "                     df_select_table[\"cases_per_pop\"].astype(int)\n",
    "                 ],\n",
    "                 align=['left', 'center', 'center', 'center'],\n",
    "                 fill = dict(color=['rgb(245, 245, 245)','rgb(245, 245, 245)',color_list])\n",
    "                ))\n",
    "            ])\n",
    "fig.update_layout(height=750, title_text=\"Casos por 100K habitantes en la última semana antes de rezago\",showlegend=False)\n",
    "l_charts.append(fig)"
   ]
  },
  {
   "cell_type": "code",
   "execution_count": null,
   "metadata": {},
   "outputs": [],
   "source": [
    "df_covid_death_per_pop = df_covid_death.loc[\n",
    "    (df_covid_death[\"Fecha de muerte\"] < (df_covid_death[\"Fecha de muerte\"].max() - load_data_zone)) &\n",
    "    (df_covid_death[\"Fecha de muerte\"] >= (df_covid_death[\"Fecha de muerte\"].max() - load_data_zone - pd.Timedelta('7 days')))\n",
    "]"
   ]
  },
  {
   "cell_type": "code",
   "execution_count": null,
   "metadata": {},
   "outputs": [],
   "source": [
    "df_covid_death_per_pop = df_covid_death_per_pop.groupby([\"Código DIVIPOLA\"]).count()[\"ID de caso\"].reset_index()"
   ]
  },
  {
   "cell_type": "code",
   "execution_count": null,
   "metadata": {},
   "outputs": [],
   "source": [
    "df_covid_death_per_pop = pd.merge(df_censo,df_covid_death_per_pop,on=\"Código DIVIPOLA\", how=\"inner\")"
   ]
  },
  {
   "cell_type": "code",
   "execution_count": null,
   "metadata": {},
   "outputs": [],
   "source": [
    "df_covid_death_per_pop[\"death_per_pop\"] = df_covid_death_per_pop[\"ID de caso\"]*1e5/df_covid_death_per_pop[\"Población total\"]"
   ]
  },
  {
   "cell_type": "code",
   "execution_count": null,
   "metadata": {},
   "outputs": [],
   "source": [
    "df_select_table = df_covid_death_per_pop.loc[(df_covid_death_per_pop[\"Población total\"]>50000)].sort_values(\"death_per_pop\", ascending=False)"
   ]
  },
  {
   "cell_type": "code",
   "execution_count": null,
   "metadata": {},
   "outputs": [],
   "source": [
    "color_list = list(((df_select_table[\"death_per_pop\"].head(10).astype(int)/(df_select_table[\"death_per_pop\"].head(10).astype(int)).max())*5).astype(int).apply(lambda x:cl.flipper()['seq']['9']['Purples'][x]))"
   ]
  },
  {
   "cell_type": "code",
   "execution_count": null,
   "metadata": {},
   "outputs": [],
   "source": [
    "fig = go.Figure(data=[go.Table(header=dict(values=['Municipio', 'Población', 'Muertes semana %s a %s por 100K' % (current_week_min,current_week_max)]),\n",
    "                 columnwidth = [70,60,90],\n",
    "                 cells=dict(values=[\n",
    "                     df_select_table[\"NOMBRE MUNICIPIO\"].head(10) + \", \" + df_select_table[\"NOMBRE DEPARTAMENTO\"].head(10),\n",
    "                     df_select_table[\"Población total\"].head(10),\n",
    "                     df_select_table[\"death_per_pop\"].head(10).astype(int)\n",
    "                 ],\n",
    "                 align=['left', 'center', 'center', 'center'],\n",
    "                 fill = dict(color=['rgb(245, 245, 245)','rgb(245, 245, 245)',color_list])\n",
    "                ))\n",
    "            ])\n",
    "fig.update_layout(height=450, title_text=\"Municipios con más muertes por 100.000 habitantes en la última semana antes de rezago\",showlegend=False)\n",
    "l_charts.append(fig)"
   ]
  },
  {
   "cell_type": "code",
   "execution_count": null,
   "metadata": {},
   "outputs": [],
   "source": [
    "df_select_table = df_covid_death_per_pop.sort_values(\"Población total\", ascending=False).head(25).sort_values(\"death_per_pop\", ascending=False)"
   ]
  },
  {
   "cell_type": "code",
   "execution_count": null,
   "metadata": {},
   "outputs": [],
   "source": [
    "color_list = list(((df_select_table[\"death_per_pop\"].head(10).astype(int)/(df_select_table[\"death_per_pop\"].head(10).astype(int)).max())*5).astype(int).apply(lambda x:cl.flipper()['seq']['9']['Purples'][x]))"
   ]
  },
  {
   "cell_type": "code",
   "execution_count": null,
   "metadata": {},
   "outputs": [],
   "source": [
    "fig = go.Figure(data=[go.Table(header=dict(values=['Municipio', 'Población', 'Muertes semana %s a %s por 100K' % (current_week_min,current_week_max)]),\n",
    "                 columnwidth = [70,60,90],\n",
    "                 cells=dict(values=[\n",
    "                     df_select_table[\"NOMBRE MUNICIPIO\"] + \", \" + df_select_table[\"NOMBRE DEPARTAMENTO\"],\n",
    "                     df_select_table[\"Población total\"],\n",
    "                     df_select_table[\"death_per_pop\"].astype(int)\n",
    "                 ],\n",
    "                 align=['left', 'center', 'center', 'center'],\n",
    "                 fill = dict(color=['rgb(245, 245, 245)','rgb(245, 245, 245)',color_list])\n",
    "                ))\n",
    "            ])\n",
    "fig.update_layout(height=750, title_text=\"Muertes por 100.000 habitantes en los principales municipios en la última semana antes de rezago\",showlegend=False)\n",
    "l_charts.append(fig)"
   ]
  },
  {
   "cell_type": "code",
   "execution_count": null,
   "metadata": {},
   "outputs": [],
   "source": [
    "df_covid_cases_load = df_covid_cases_load.groupby([\"week\",\"Código DIVIPOLA\"]).count()[\"ID de caso\"].reset_index()"
   ]
  },
  {
   "cell_type": "code",
   "execution_count": null,
   "metadata": {},
   "outputs": [],
   "source": [
    "df_covid_cases_current_week = df_covid_cases_load.loc[df_covid_cases_load[\"week\"]==\"current_week\"]\n",
    "df_covid_cases_previous_week = df_covid_cases_load.loc[df_covid_cases_load[\"week\"]==\"previous_week\"]"
   ]
  },
  {
   "cell_type": "code",
   "execution_count": null,
   "metadata": {},
   "outputs": [],
   "source": [
    "df_diff_cases = pd.merge(df_covid_cases_current_week,df_covid_cases_previous_week,on=\"Código DIVIPOLA\", how=\"inner\")[[\"Código DIVIPOLA\",\"ID de caso_x\",\"ID de caso_y\"]].rename(columns={\"ID de caso_x\":\"current_week\",\"ID de caso_y\":\"previous_week\"})"
   ]
  },
  {
   "cell_type": "code",
   "execution_count": null,
   "metadata": {},
   "outputs": [],
   "source": [
    "df_diff_cases = pd.merge(df_censo,df_diff_cases,on=\"Código DIVIPOLA\", how=\"inner\")"
   ]
  },
  {
   "cell_type": "code",
   "execution_count": null,
   "metadata": {},
   "outputs": [],
   "source": [
    "#df_diff_cases[\"current_week\"] = df_diff_cases[\"current_week\"]*1e5/df_diff_cases[\"Población total\"]\n",
    "#df_diff_cases[\"previous_week\"] = df_diff_cases[\"previous_week\"]*1e5/df_diff_cases[\"Población total\"]"
   ]
  },
  {
   "cell_type": "code",
   "execution_count": null,
   "metadata": {},
   "outputs": [],
   "source": [
    "df_diff_cases[\"diff\"] = df_diff_cases[\"current_week\"]*1e5/df_diff_cases[\"Población total\"] - df_diff_cases[\"previous_week\"]*1e5/df_diff_cases[\"Población total\"]"
   ]
  },
  {
   "cell_type": "code",
   "execution_count": null,
   "metadata": {},
   "outputs": [],
   "source": [
    "df_select_table = df_diff_cases.loc[(df_diff_cases[\"Población total\"]>50000) & (df_diff_cases[\"diff\"]<0)].sort_values(\"diff\")"
   ]
  },
  {
   "cell_type": "code",
   "execution_count": null,
   "metadata": {},
   "outputs": [],
   "source": [
    "color_list = list(((df_select_table[\"diff\"].head(10).astype(int)*(-1)/(df_select_table[\"diff\"].head(10).astype(int)*(-1)).max())*5).astype(int).apply(lambda x:cl.flipper()['seq']['9']['Blues'][x-1]))"
   ]
  },
  {
   "cell_type": "code",
   "execution_count": null,
   "metadata": {},
   "outputs": [],
   "source": [
    "fig = go.Figure(data=[go.Table(header=dict(values=['Municipio', 'Semana %s a %s' % (current_week_min,current_week_max), 'Semana %s a %s' % (previous_week_min,previous_week_max), 'Cambio por 100K']),\n",
    "                 columnwidth = [100,50,50,50],\n",
    "                 cells=dict(values=[\n",
    "                     df_select_table[\"NOMBRE MUNICIPIO\"].head(10) + \", \" + df_select_table[\"NOMBRE DEPARTAMENTO\"].head(10),\n",
    "                     df_select_table[\"current_week\"].head(10),\n",
    "                     df_select_table[\"previous_week\"].head(10),\n",
    "                     df_select_table[\"diff\"].head(10).astype(int)\n",
    "                 ],\n",
    "                 align=['left', 'center', 'center', 'center'],\n",
    "                 fill = dict(color=['rgb(245, 245, 245)','rgb(245, 245, 245)','rgb(245, 245, 245)',color_list])\n",
    "                ))\n",
    "            ])\n",
    "fig.update_layout(height=450, title_text=\"Municipios con mayor descenso de casos por 100.000 habitantes en las últimas semanas antes de rezago\",showlegend=False)\n",
    "l_charts.append(fig)"
   ]
  },
  {
   "cell_type": "code",
   "execution_count": null,
   "metadata": {},
   "outputs": [],
   "source": [
    "df_select_table = df_diff_cases.loc[(df_diff_cases[\"Población total\"]>50000) & (df_diff_cases[\"diff\"]>0)].sort_values(\"diff\", ascending=False)"
   ]
  },
  {
   "cell_type": "code",
   "execution_count": null,
   "metadata": {},
   "outputs": [],
   "source": [
    "color_list = list(((df_select_table[\"diff\"].head(10).astype(int)/(df_select_table[\"diff\"].head(10).astype(int)).max())*5).astype(int).apply(lambda x:cl.flipper()['seq']['9']['Reds'][x]))"
   ]
  },
  {
   "cell_type": "code",
   "execution_count": null,
   "metadata": {},
   "outputs": [],
   "source": [
    "fig = go.Figure(data=[go.Table(header=dict(values=['Municipio', 'Semana %s a %s' % (current_week_min,current_week_max), 'Semana %s a %s' % (previous_week_min,previous_week_max), 'Cambio por 100K']),\n",
    "                 columnwidth = [100,50,50,50],\n",
    "                 cells=dict(values=[\n",
    "                     df_select_table[\"NOMBRE MUNICIPIO\"].head(10) + \", \" + df_select_table[\"NOMBRE DEPARTAMENTO\"].head(10),\n",
    "                     df_select_table[\"current_week\"].head(10),\n",
    "                     df_select_table[\"previous_week\"].head(10),\n",
    "                     df_select_table[\"diff\"].head(10).astype(int)\n",
    "                 ],\n",
    "                 align=['left', 'center', 'center', 'center'],\n",
    "                 fill = dict(color=['rgb(245, 245, 245)','rgb(245, 245, 245)','rgb(245, 245, 245)',color_list])\n",
    "                ))\n",
    "            ])\n",
    "fig.update_layout(height=450, title_text=\"Municipios con mayor aumento de casos por 100.000 habitantes en las últimas semanas antes de rezago\",showlegend=False)\n",
    "l_charts.append(fig)"
   ]
  },
  {
   "cell_type": "code",
   "execution_count": null,
   "metadata": {},
   "outputs": [],
   "source": [
    "df_covid_death_load = df_covid_death.loc[\n",
    "    (df_covid_death[\"Fecha de muerte\"] < (df_covid_death[\"Fecha de muerte\"].max() - load_data_zone)) &\n",
    "    (df_covid_death[\"Fecha de muerte\"] >= (df_covid_death[\"Fecha de muerte\"].max() - load_data_zone - pd.Timedelta('14 days')))\n",
    "]\n",
    "\n",
    "df_covid_death_load[\"week\"] = df_covid_death_load[\"Fecha de muerte\"].apply(lambda x:\"current_week\" if (x > (df_covid_death_load[\"Fecha de muerte\"].max()-pd.Timedelta('7 days'))) else \"previous_week\")"
   ]
  },
  {
   "cell_type": "code",
   "execution_count": null,
   "metadata": {},
   "outputs": [],
   "source": [
    "current_week_max = datetime.datetime.strftime(df_covid_death_load.loc[df_covid_death_load[\"week\"]==\"current_week\"][\"date\"].max(), '%d-%m')\n",
    "current_week_min = datetime.datetime.strftime(df_covid_death_load.loc[df_covid_death_load[\"week\"]==\"current_week\"][\"date\"].min(), '%d-%m')\n",
    "previous_week_max = datetime.datetime.strftime(df_covid_death_load.loc[df_covid_death_load[\"week\"]==\"previous_week\"][\"date\"].max(), '%d-%m')\n",
    "previous_week_min = datetime.datetime.strftime(df_covid_death_load.loc[df_covid_death_load[\"week\"]==\"previous_week\"][\"date\"].min(), '%d-%m')"
   ]
  },
  {
   "cell_type": "code",
   "execution_count": null,
   "metadata": {},
   "outputs": [],
   "source": [
    "df_covid_death_load = df_covid_death_load.groupby([\"week\",\"Código DIVIPOLA\"]).count()[\"ID de caso\"].reset_index()"
   ]
  },
  {
   "cell_type": "code",
   "execution_count": null,
   "metadata": {},
   "outputs": [],
   "source": [
    "df_covid_death_current_week = df_covid_death_load.loc[df_covid_death_load[\"week\"]==\"current_week\"]\n",
    "df_covid_death_previous_week = df_covid_death_load.loc[df_covid_death_load[\"week\"]==\"previous_week\"]"
   ]
  },
  {
   "cell_type": "code",
   "execution_count": null,
   "metadata": {},
   "outputs": [],
   "source": [
    "df_diff_death = pd.merge(df_covid_death_current_week,df_covid_death_previous_week,on=\"Código DIVIPOLA\", how=\"inner\")[[\"Código DIVIPOLA\",\"ID de caso_x\",\"ID de caso_y\"]].rename(columns={\"ID de caso_x\":\"current_week\",\"ID de caso_y\":\"previous_week\"})"
   ]
  },
  {
   "cell_type": "code",
   "execution_count": null,
   "metadata": {},
   "outputs": [],
   "source": [
    "df_diff_death = pd.merge(df_censo,df_diff_death,on=\"Código DIVIPOLA\", how=\"inner\")"
   ]
  },
  {
   "cell_type": "code",
   "execution_count": null,
   "metadata": {},
   "outputs": [],
   "source": [
    "df_diff_death[\"diff\"] = df_diff_death[\"current_week\"]*1e5/df_diff_death[\"Población total\"] - df_diff_death[\"previous_week\"]*1e5/df_diff_death[\"Población total\"]"
   ]
  },
  {
   "cell_type": "code",
   "execution_count": null,
   "metadata": {},
   "outputs": [],
   "source": [
    "df_select_table = df_diff_death.loc[(df_diff_death[\"Población total\"]>50000) & (df_diff_death[\"diff\"]<0)].sort_values(\"diff\")"
   ]
  },
  {
   "cell_type": "code",
   "execution_count": null,
   "metadata": {},
   "outputs": [],
   "source": [
    "color_list = list(((df_select_table[\"diff\"].head(10).astype(int)*(-1)/(df_select_table[\"diff\"].head(10).astype(int)*(-1)).max())*5).astype(int).apply(lambda x:cl.flipper()['seq']['9']['Blues'][x-1]))"
   ]
  },
  {
   "cell_type": "code",
   "execution_count": null,
   "metadata": {},
   "outputs": [],
   "source": [
    "fig = go.Figure(data=[go.Table(header=dict(values=['Municipio', 'Semana %s a %s' % (current_week_min,current_week_max), 'Semana %s a %s' % (previous_week_min,previous_week_max), 'Cambio por 100K']),\n",
    "                 columnwidth = [100,50,50,50],\n",
    "                 cells=dict(values=[\n",
    "                     df_select_table[\"NOMBRE MUNICIPIO\"].head(10) + \", \" + df_select_table[\"NOMBRE DEPARTAMENTO\"].head(10),\n",
    "                     df_select_table[\"current_week\"].head(10),\n",
    "                     df_select_table[\"previous_week\"].head(10),\n",
    "                     df_select_table[\"diff\"].head(10).astype(int)\n",
    "                 ],\n",
    "                 align=['left', 'center', 'center', 'center'],\n",
    "                 fill = dict(color=['rgb(245, 245, 245)','rgb(245, 245, 245)','rgb(245, 245, 245)',color_list])\n",
    "                ))\n",
    "            ])\n",
    "fig.update_layout(height=450, title_text=\"Municipios con mayor descenso de muertes por 100.000 habitantes en las últimas semanas antes de rezago\",showlegend=False)\n",
    "l_charts.append(fig)"
   ]
  },
  {
   "cell_type": "code",
   "execution_count": null,
   "metadata": {},
   "outputs": [],
   "source": [
    "df_select_table = df_diff_death.loc[(df_diff_death[\"Población total\"]>50000) & (df_diff_death[\"diff\"]>0)].sort_values(\"diff\", ascending=False)"
   ]
  },
  {
   "cell_type": "code",
   "execution_count": null,
   "metadata": {},
   "outputs": [],
   "source": [
    "color_list = list(((df_select_table[\"diff\"].head(10).astype(int)/(df_select_table[\"diff\"].head(10).astype(int)).max())*5).astype(int).apply(lambda x:cl.flipper()['seq']['9']['Reds'][x]))"
   ]
  },
  {
   "cell_type": "code",
   "execution_count": null,
   "metadata": {},
   "outputs": [],
   "source": [
    "fig = go.Figure(data=[go.Table(header=dict(values=['Municipio', 'Semana %s a %s' % (current_week_min,current_week_max), 'Semana %s a %s' % (previous_week_min,previous_week_max), 'Cambio por 100K']),\n",
    "                 columnwidth = [100,50,50,50],\n",
    "                 cells=dict(values=[\n",
    "                     df_select_table[\"NOMBRE MUNICIPIO\"].head(10) + \", \" + df_select_table[\"NOMBRE DEPARTAMENTO\"].head(10),\n",
    "                     df_select_table[\"current_week\"].head(10),\n",
    "                     df_select_table[\"previous_week\"].head(10),\n",
    "                     df_select_table[\"diff\"].head(10).astype(int)\n",
    "                 ],\n",
    "                 align=['left', 'center', 'center', 'center'],\n",
    "                 fill = dict(color=['rgb(245, 245, 245)','rgb(245, 245, 245)','rgb(245, 245, 245)',color_list])\n",
    "                ))\n",
    "            ])\n",
    "fig.update_layout(height=450, title_text=\"Municipios con mayor aumento de muertes por 100.000 habitantes en las últimas semanas antes de rezago\",showlegend=False)\n",
    "l_charts.append(fig)"
   ]
  },
  {
   "cell_type": "code",
   "execution_count": null,
   "metadata": {},
   "outputs": [],
   "source": [
    "df_select_table = df_diff_cases.sort_values(\"Población total\", ascending=False).head(25).sort_values(\"diff\")"
   ]
  },
  {
   "cell_type": "code",
   "execution_count": null,
   "metadata": {},
   "outputs": [],
   "source": [
    "color_list_neg = list(((df_select_table[\"diff\"].loc[df_select_table[\"diff\"]<0].astype(int)*(-1)/(df_select_table[\"diff\"].loc[df_select_table[\"diff\"]<0].astype(int)*(-1)).max())*5).astype(int).apply(lambda x:cl.flipper()['seq']['9']['Blues'][x]))"
   ]
  },
  {
   "cell_type": "code",
   "execution_count": null,
   "metadata": {},
   "outputs": [],
   "source": [
    "color_list_pos = list(((df_select_table[\"diff\"].loc[df_select_table[\"diff\"]>=0].astype(int)/(df_select_table[\"diff\"].loc[df_select_table[\"diff\"]>=0].astype(int)).max())*5).astype(int).apply(lambda x:cl.flipper()['seq']['9']['Reds'][x]))"
   ]
  },
  {
   "cell_type": "code",
   "execution_count": null,
   "metadata": {},
   "outputs": [],
   "source": [
    "fig = go.Figure(data=[go.Table(header=dict(values=['Municipio', 'Semana %s a %s' % (current_week_min,current_week_max), 'Semana %s a %s' % (previous_week_min,previous_week_max), 'Cambio por 100K']),\n",
    "                 columnwidth = [100,50,50,50],\n",
    "                 cells=dict(values=[\n",
    "                     df_select_table[\"NOMBRE MUNICIPIO\"] + \", \" + df_select_table[\"NOMBRE DEPARTAMENTO\"],\n",
    "                     df_select_table[\"current_week\"],\n",
    "                     df_select_table[\"previous_week\"],\n",
    "                     df_select_table[\"diff\"].astype(int)\n",
    "                 ],\n",
    "                 align=['left', 'center', 'center', 'center'],\n",
    "                 fill = dict(color=['rgb(245, 245, 245)','rgb(245, 245, 245)','rgb(245, 245, 245)',color_list_neg+color_list_pos])\n",
    "                ))\n",
    "            ])\n",
    "fig.update_layout(height=800, title_text=\"Cambio de casos por 100K habitantes para semanas antes de rezago\",showlegend=False)\n",
    "l_charts.append(fig)"
   ]
  },
  {
   "cell_type": "code",
   "execution_count": null,
   "metadata": {},
   "outputs": [],
   "source": [
    "df_select_table = df_diff_death.sort_values(\"Población total\", ascending=False).head(25).sort_values(\"diff\")"
   ]
  },
  {
   "cell_type": "code",
   "execution_count": null,
   "metadata": {},
   "outputs": [],
   "source": [
    "color_list_neg = list(((df_select_table[\"diff\"].loc[df_select_table[\"diff\"]<0].astype(int)*(-1)/(df_select_table[\"diff\"].loc[df_select_table[\"diff\"]<0].astype(int)*(-1)).max())*5).astype(int).apply(lambda x:cl.flipper()['seq']['9']['Blues'][x]))"
   ]
  },
  {
   "cell_type": "code",
   "execution_count": null,
   "metadata": {},
   "outputs": [],
   "source": [
    "color_list_pos = list(((df_select_table[\"diff\"].loc[df_select_table[\"diff\"]>=0].astype(int)/(df_select_table[\"diff\"].loc[df_select_table[\"diff\"]>=0].astype(int)).max())*5).astype(int).apply(lambda x:cl.flipper()['seq']['9']['Reds'][x]))"
   ]
  },
  {
   "cell_type": "code",
   "execution_count": null,
   "metadata": {},
   "outputs": [],
   "source": [
    "fig = go.Figure(data=[go.Table(header=dict(values=['Municipio', 'Semana %s a %s' % (current_week_min,current_week_max), 'Semana %s a %s' % (previous_week_min,previous_week_max), 'Cambio por 1M']),\n",
    "                 columnwidth = [100,50,50,50],\n",
    "                 cells=dict(values=[\n",
    "                     df_select_table[\"NOMBRE MUNICIPIO\"] + \", \" + df_select_table[\"NOMBRE DEPARTAMENTO\"],\n",
    "                     df_select_table[\"current_week\"],\n",
    "                     df_select_table[\"previous_week\"],\n",
    "                     (df_select_table[\"diff\"]*10).astype(int)\n",
    "                 ],\n",
    "                 align=['left', 'center', 'center', 'center'],\n",
    "                 fill = dict(color=['rgb(245, 245, 245)','rgb(245, 245, 245)','rgb(245, 245, 245)',color_list_neg+color_list_pos])\n",
    "                ))\n",
    "            ])\n",
    "fig.update_layout(height=800, title_text=\"Cambio de muertes por 1M habitantes para semanas antes de rezago\",showlegend=False)\n",
    "l_charts.append(fig)"
   ]
  },
  {
   "cell_type": "code",
   "execution_count": null,
   "metadata": {},
   "outputs": [],
   "source": [
    "with open('index.html', 'w') as f:\n",
    "    for chart in l_charts:\n",
    "        f.write(chart.to_html(full_html=False, include_plotlyjs='cdn'))"
   ]
  },
  {
   "cell_type": "code",
   "execution_count": null,
   "metadata": {},
   "outputs": [],
   "source": [
    "l_charts[0].write_image(\"case_main.png\")"
   ]
  },
  {
   "cell_type": "code",
   "execution_count": null,
   "metadata": {},
   "outputs": [],
   "source": [
    "l_charts[2].write_image(\"death_main.png\")"
   ]
  },
  {
   "cell_type": "code",
   "execution_count": null,
   "metadata": {},
   "outputs": [],
   "source": [
    "l_charts[4].write_image(\"peak.png\")"
   ]
  },
  {
   "cell_type": "code",
   "execution_count": null,
   "metadata": {},
   "outputs": [],
   "source": [
    "l_charts[6].write_image(\"most_cases.png\")"
   ]
  },
  {
   "cell_type": "code",
   "execution_count": null,
   "metadata": {},
   "outputs": [],
   "source": [
    "l_charts[-2].write_image(\"cases_diff.png\")"
   ]
  },
  {
   "cell_type": "code",
   "execution_count": null,
   "metadata": {},
   "outputs": [],
   "source": [
    "l_charts[-1].write_image(\"deaths_diff.png\")"
   ]
  }
 ],
 "metadata": {
  "kernelspec": {
   "display_name": "Python 3",
   "language": "python",
   "name": "python3"
  },
  "language_info": {
   "codemirror_mode": {
    "name": "ipython",
    "version": 3
   },
   "file_extension": ".py",
   "mimetype": "text/x-python",
   "name": "python",
   "nbconvert_exporter": "python",
   "pygments_lexer": "ipython3",
   "version": "3.8.3"
  }
 },
 "nbformat": 4,
 "nbformat_minor": 2
}
